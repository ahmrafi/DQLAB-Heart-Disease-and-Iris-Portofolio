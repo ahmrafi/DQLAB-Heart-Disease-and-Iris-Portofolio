{
  "cells": [
    {
      "cell_type": "markdown",
      "id": "4745e9b4-a2c8-4efc-b604-4d0f8247808a",
      "metadata": {
        "id": "4745e9b4-a2c8-4efc-b604-4d0f8247808a"
      },
      "source": [
        "# Pendahuluan\n",
        "\n",
        "Di dalam material ini, kamu akan mempelajari Data Heart Disease dan belajar bagaimana melakukan pemodelan. Lakukan kode dan jalankan setiap sel. Selama proses pembelajaran, kamu akan menemui beberapa blok **TODO** -- ikuti petunjuk untuk mengisinya sebelum menjalankan sel-sel tersebut dan melanjutkan."
      ]
    },
    {
      "cell_type": "code",
      "execution_count": 25,
      "id": "6be0c8c8-6fc4-4c08-9be9-635dad5a4f8d",
      "metadata": {
        "id": "6be0c8c8-6fc4-4c08-9be9-635dad5a4f8d"
      },
      "outputs": [],
      "source": [
        "# Tahapan sebelumnya\n",
        "import numpy as np\n",
        "import pandas as pd\n",
        "import math\n",
        "import random\n",
        "import seaborn as sns\n",
        "from scipy.stats import pearsonr, jarque_bera\n",
        "import matplotlib.pyplot as plt\n",
        "from sklearn.preprocessing import StandardScaler\n",
        "from sklearn.model_selection import train_test_split\n",
        "from sklearn import tree\n",
        "from sklearn.ensemble import RandomForestClassifier\n",
        "from sklearn.tree import DecisionTreeClassifier\n",
        "from sklearn.decomposition import PCA\n",
        "from sklearn.metrics import accuracy_score, confusion_matrix, precision_score, recall_score, classification_report, confusion_matrix, f1_score\n",
        "from sklearn.model_selection import cross_val_score\n",
        "import warnings\n",
        "warnings.filterwarnings(\"ignore\")\n",
        "\n",
        "%matplotlib inline\n",
        "\n",
        "# Memuat dataset yang sudah rapi ditahapan sebelumnya\n",
        "data = \"data.csv\"\n",
        "df = pd.read_csv(data, index_col=0)\n",
        "df['sex'] = df['sex'].replace({'Male' : 1,'Female': 0})\n",
        "df['cp'] = df['cp'].replace({'typical angina' : 0, 'atypical angina' : 1, 'non-anginal pain' : 2, 'asymtomatic' : 3})\n",
        "df['fbs'] = df['fbs'].replace({'No' : 0, 'Yes' : 1})\n",
        "df['restecg'] = df['restecg'].replace({'probable or definite left ventricular hypertrophy':0,'normal':1,'ST-T Wave abnormal':2})\n",
        "df['exang'] = df['exang'].replace({'No':0,'Yes':1})\n",
        "df['slope'] = df['slope'].replace({'downsloping':0, 'flat':1,'upsloping':2})\n",
        "df['thal'] = df['thal'].replace({'normal':1, 'fixed defect':2,'reversable defect':3})\n",
        "df['ca'] = df['ca'].replace({'Number of major vessels: 0':0, 'Number of major vessels: 1':1,'Number of major vessels: 2':2, 'Number of major vessels: 3':3})\n",
        "df['target'] = df['target'].replace({'No disease':0,'Disease':1})\n",
        "\n",
        "'''TODO: Ambil variabel terpilih'''\n",
        "variabel = ['cp', 'thalach', 'slope', 'oldpeak', 'exang', 'ca', 'thal', 'sex', 'age','target']\n",
        "df = df[variabel]"
      ]
    },
    {
      "cell_type": "code",
      "source": [
        "df.head()"
      ],
      "metadata": {
        "colab": {
          "base_uri": "https://localhost:8080/",
          "height": 206
        },
        "id": "A1KrHXW51OTO",
        "outputId": "2a762452-d167-4ef8-c99a-8e9682e01faa"
      },
      "id": "A1KrHXW51OTO",
      "execution_count": 19,
      "outputs": [
        {
          "output_type": "execute_result",
          "data": {
            "text/plain": [
              "   cp  thalach  slope  oldpeak  exang  ca  thal  sex  age\n",
              "0   0      168      2      1.0      0   2     3    1   52\n",
              "1   0      155      0      3.1      1   0     3    1   53\n",
              "2   0      125      0      2.6      1   0     3    1   70\n",
              "3   0      161      2      0.0      0   1     3    1   61\n",
              "4   0      106      1      1.9      0   3     2    0   62"
            ],
            "text/html": [
              "\n",
              "  <div id=\"df-ac847a42-9823-41e8-ae34-3221d727024e\" class=\"colab-df-container\">\n",
              "    <div>\n",
              "<style scoped>\n",
              "    .dataframe tbody tr th:only-of-type {\n",
              "        vertical-align: middle;\n",
              "    }\n",
              "\n",
              "    .dataframe tbody tr th {\n",
              "        vertical-align: top;\n",
              "    }\n",
              "\n",
              "    .dataframe thead th {\n",
              "        text-align: right;\n",
              "    }\n",
              "</style>\n",
              "<table border=\"1\" class=\"dataframe\">\n",
              "  <thead>\n",
              "    <tr style=\"text-align: right;\">\n",
              "      <th></th>\n",
              "      <th>cp</th>\n",
              "      <th>thalach</th>\n",
              "      <th>slope</th>\n",
              "      <th>oldpeak</th>\n",
              "      <th>exang</th>\n",
              "      <th>ca</th>\n",
              "      <th>thal</th>\n",
              "      <th>sex</th>\n",
              "      <th>age</th>\n",
              "    </tr>\n",
              "  </thead>\n",
              "  <tbody>\n",
              "    <tr>\n",
              "      <th>0</th>\n",
              "      <td>0</td>\n",
              "      <td>168</td>\n",
              "      <td>2</td>\n",
              "      <td>1.0</td>\n",
              "      <td>0</td>\n",
              "      <td>2</td>\n",
              "      <td>3</td>\n",
              "      <td>1</td>\n",
              "      <td>52</td>\n",
              "    </tr>\n",
              "    <tr>\n",
              "      <th>1</th>\n",
              "      <td>0</td>\n",
              "      <td>155</td>\n",
              "      <td>0</td>\n",
              "      <td>3.1</td>\n",
              "      <td>1</td>\n",
              "      <td>0</td>\n",
              "      <td>3</td>\n",
              "      <td>1</td>\n",
              "      <td>53</td>\n",
              "    </tr>\n",
              "    <tr>\n",
              "      <th>2</th>\n",
              "      <td>0</td>\n",
              "      <td>125</td>\n",
              "      <td>0</td>\n",
              "      <td>2.6</td>\n",
              "      <td>1</td>\n",
              "      <td>0</td>\n",
              "      <td>3</td>\n",
              "      <td>1</td>\n",
              "      <td>70</td>\n",
              "    </tr>\n",
              "    <tr>\n",
              "      <th>3</th>\n",
              "      <td>0</td>\n",
              "      <td>161</td>\n",
              "      <td>2</td>\n",
              "      <td>0.0</td>\n",
              "      <td>0</td>\n",
              "      <td>1</td>\n",
              "      <td>3</td>\n",
              "      <td>1</td>\n",
              "      <td>61</td>\n",
              "    </tr>\n",
              "    <tr>\n",
              "      <th>4</th>\n",
              "      <td>0</td>\n",
              "      <td>106</td>\n",
              "      <td>1</td>\n",
              "      <td>1.9</td>\n",
              "      <td>0</td>\n",
              "      <td>3</td>\n",
              "      <td>2</td>\n",
              "      <td>0</td>\n",
              "      <td>62</td>\n",
              "    </tr>\n",
              "  </tbody>\n",
              "</table>\n",
              "</div>\n",
              "    <div class=\"colab-df-buttons\">\n",
              "\n",
              "  <div class=\"colab-df-container\">\n",
              "    <button class=\"colab-df-convert\" onclick=\"convertToInteractive('df-ac847a42-9823-41e8-ae34-3221d727024e')\"\n",
              "            title=\"Convert this dataframe to an interactive table.\"\n",
              "            style=\"display:none;\">\n",
              "\n",
              "  <svg xmlns=\"http://www.w3.org/2000/svg\" height=\"24px\" viewBox=\"0 -960 960 960\">\n",
              "    <path d=\"M120-120v-720h720v720H120Zm60-500h600v-160H180v160Zm220 220h160v-160H400v160Zm0 220h160v-160H400v160ZM180-400h160v-160H180v160Zm440 0h160v-160H620v160ZM180-180h160v-160H180v160Zm440 0h160v-160H620v160Z\"/>\n",
              "  </svg>\n",
              "    </button>\n",
              "\n",
              "  <style>\n",
              "    .colab-df-container {\n",
              "      display:flex;\n",
              "      gap: 12px;\n",
              "    }\n",
              "\n",
              "    .colab-df-convert {\n",
              "      background-color: #E8F0FE;\n",
              "      border: none;\n",
              "      border-radius: 50%;\n",
              "      cursor: pointer;\n",
              "      display: none;\n",
              "      fill: #1967D2;\n",
              "      height: 32px;\n",
              "      padding: 0 0 0 0;\n",
              "      width: 32px;\n",
              "    }\n",
              "\n",
              "    .colab-df-convert:hover {\n",
              "      background-color: #E2EBFA;\n",
              "      box-shadow: 0px 1px 2px rgba(60, 64, 67, 0.3), 0px 1px 3px 1px rgba(60, 64, 67, 0.15);\n",
              "      fill: #174EA6;\n",
              "    }\n",
              "\n",
              "    .colab-df-buttons div {\n",
              "      margin-bottom: 4px;\n",
              "    }\n",
              "\n",
              "    [theme=dark] .colab-df-convert {\n",
              "      background-color: #3B4455;\n",
              "      fill: #D2E3FC;\n",
              "    }\n",
              "\n",
              "    [theme=dark] .colab-df-convert:hover {\n",
              "      background-color: #434B5C;\n",
              "      box-shadow: 0px 1px 3px 1px rgba(0, 0, 0, 0.15);\n",
              "      filter: drop-shadow(0px 1px 2px rgba(0, 0, 0, 0.3));\n",
              "      fill: #FFFFFF;\n",
              "    }\n",
              "  </style>\n",
              "\n",
              "    <script>\n",
              "      const buttonEl =\n",
              "        document.querySelector('#df-ac847a42-9823-41e8-ae34-3221d727024e button.colab-df-convert');\n",
              "      buttonEl.style.display =\n",
              "        google.colab.kernel.accessAllowed ? 'block' : 'none';\n",
              "\n",
              "      async function convertToInteractive(key) {\n",
              "        const element = document.querySelector('#df-ac847a42-9823-41e8-ae34-3221d727024e');\n",
              "        const dataTable =\n",
              "          await google.colab.kernel.invokeFunction('convertToInteractive',\n",
              "                                                    [key], {});\n",
              "        if (!dataTable) return;\n",
              "\n",
              "        const docLinkHtml = 'Like what you see? Visit the ' +\n",
              "          '<a target=\"_blank\" href=https://colab.research.google.com/notebooks/data_table.ipynb>data table notebook</a>'\n",
              "          + ' to learn more about interactive tables.';\n",
              "        element.innerHTML = '';\n",
              "        dataTable['output_type'] = 'display_data';\n",
              "        await google.colab.output.renderOutput(dataTable, element);\n",
              "        const docLink = document.createElement('div');\n",
              "        docLink.innerHTML = docLinkHtml;\n",
              "        element.appendChild(docLink);\n",
              "      }\n",
              "    </script>\n",
              "  </div>\n",
              "\n",
              "\n",
              "<div id=\"df-ed012b2f-caa9-4146-b858-45c9c4217f8f\">\n",
              "  <button class=\"colab-df-quickchart\" onclick=\"quickchart('df-ed012b2f-caa9-4146-b858-45c9c4217f8f')\"\n",
              "            title=\"Suggest charts.\"\n",
              "            style=\"display:none;\">\n",
              "\n",
              "<svg xmlns=\"http://www.w3.org/2000/svg\" height=\"24px\"viewBox=\"0 0 24 24\"\n",
              "     width=\"24px\">\n",
              "    <g>\n",
              "        <path d=\"M19 3H5c-1.1 0-2 .9-2 2v14c0 1.1.9 2 2 2h14c1.1 0 2-.9 2-2V5c0-1.1-.9-2-2-2zM9 17H7v-7h2v7zm4 0h-2V7h2v10zm4 0h-2v-4h2v4z\"/>\n",
              "    </g>\n",
              "</svg>\n",
              "  </button>\n",
              "\n",
              "<style>\n",
              "  .colab-df-quickchart {\n",
              "    background-color: #E8F0FE;\n",
              "    border: none;\n",
              "    border-radius: 50%;\n",
              "    cursor: pointer;\n",
              "    display: none;\n",
              "    fill: #1967D2;\n",
              "    height: 32px;\n",
              "    padding: 0 0 0 0;\n",
              "    width: 32px;\n",
              "  }\n",
              "\n",
              "  .colab-df-quickchart:hover {\n",
              "    background-color: #E2EBFA;\n",
              "    box-shadow: 0px 1px 2px rgba(60, 64, 67, 0.3), 0px 1px 3px 1px rgba(60, 64, 67, 0.15);\n",
              "    fill: #174EA6;\n",
              "  }\n",
              "\n",
              "  [theme=dark] .colab-df-quickchart {\n",
              "    background-color: #3B4455;\n",
              "    fill: #D2E3FC;\n",
              "  }\n",
              "\n",
              "  [theme=dark] .colab-df-quickchart:hover {\n",
              "    background-color: #434B5C;\n",
              "    box-shadow: 0px 1px 3px 1px rgba(0, 0, 0, 0.15);\n",
              "    filter: drop-shadow(0px 1px 2px rgba(0, 0, 0, 0.3));\n",
              "    fill: #FFFFFF;\n",
              "  }\n",
              "</style>\n",
              "\n",
              "  <script>\n",
              "    async function quickchart(key) {\n",
              "      const charts = await google.colab.kernel.invokeFunction(\n",
              "          'suggestCharts', [key], {});\n",
              "    }\n",
              "    (() => {\n",
              "      let quickchartButtonEl =\n",
              "        document.querySelector('#df-ed012b2f-caa9-4146-b858-45c9c4217f8f button');\n",
              "      quickchartButtonEl.style.display =\n",
              "        google.colab.kernel.accessAllowed ? 'block' : 'none';\n",
              "    })();\n",
              "  </script>\n",
              "</div>\n",
              "    </div>\n",
              "  </div>\n"
            ]
          },
          "metadata": {},
          "execution_count": 19
        }
      ]
    },
    {
      "cell_type": "code",
      "execution_count": 26,
      "id": "b4adabc5-60a8-415d-a5a0-b553e7d8a87d",
      "metadata": {
        "id": "b4adabc5-60a8-415d-a5a0-b553e7d8a87d",
        "colab": {
          "base_uri": "https://localhost:8080/"
        },
        "outputId": "e7fbfa1d-444c-43df-e297-fc890ad8554d"
      },
      "outputs": [
        {
          "output_type": "stream",
          "name": "stdout",
          "text": [
            "   cp  thalach  slope  oldpeak  exang  ca  thal  sex  age  target\n",
            "0   0      168      2      1.0      0   2     3    1   52       0\n",
            "1   0      155      0      3.1      1   0     3    1   53       0\n",
            "2   0      125      0      2.6      1   0     3    1   70       0\n",
            "3   0      161      2      0.0      0   1     3    1   61       0\n",
            "4   0      106      1      1.9      0   3     2    0   62       0\n",
            "Index(['cp', 'thalach', 'slope', 'oldpeak', 'exang', 'ca', 'thal', 'sex',\n",
            "       'age', 'target'],\n",
            "      dtype='object')\n"
          ]
        }
      ],
      "source": [
        "'''TODO: Buatlah pengalian informasi dari data teratas dan liat kolomsnya'''\n",
        "# Liat informasi dari dataset yang kita miliki\n",
        "print(df.head())\n",
        "print(df.columns)"
      ]
    },
    {
      "cell_type": "markdown",
      "id": "5edfdf87-fcc6-4d31-a2fa-553d637f9520",
      "metadata": {
        "id": "5edfdf87-fcc6-4d31-a2fa-553d637f9520"
      },
      "source": [
        "**Memisahkan variabel dependen dan independen**\n",
        "\n",
        "Variabel dependen yang digunakan adalah data pada kolom 'target', kolom feature merupakan variabel independen. Disini kamu akan membuat variabel X menggunakan .isin() untuk semua kolom kecuali kolom target, kemudian variabel y yang hanya kolom target saja."
      ]
    },
    {
      "cell_type": "code",
      "execution_count": 27,
      "id": "26a4d08e-afb2-4db0-b3da-895cb82abd68",
      "metadata": {
        "id": "26a4d08e-afb2-4db0-b3da-895cb82abd68"
      },
      "outputs": [],
      "source": [
        "'''TODO: Pisahkan variabel X dan y'''\n",
        "# Define X and y\n",
        "X = df.loc[:, ~df.columns.isin([\"target\"])]\n",
        "y = df.target"
      ]
    },
    {
      "cell_type": "code",
      "execution_count": 28,
      "id": "26abfd13-2e3d-420c-8d54-24062994a6ef",
      "metadata": {
        "id": "26abfd13-2e3d-420c-8d54-24062994a6ef",
        "colab": {
          "base_uri": "https://localhost:8080/",
          "height": 206
        },
        "outputId": "87d960e0-46ab-4d99-fef6-a265dc337374"
      },
      "outputs": [
        {
          "output_type": "execute_result",
          "data": {
            "text/plain": [
              "   cp  thalach  slope  oldpeak  exang  ca  thal  sex  age\n",
              "0   0      168      2      1.0      0   2     3    1   52\n",
              "1   0      155      0      3.1      1   0     3    1   53\n",
              "2   0      125      0      2.6      1   0     3    1   70\n",
              "3   0      161      2      0.0      0   1     3    1   61\n",
              "4   0      106      1      1.9      0   3     2    0   62"
            ],
            "text/html": [
              "\n",
              "  <div id=\"df-a1a617f5-b94f-4a1e-9abe-b746fd764ccc\" class=\"colab-df-container\">\n",
              "    <div>\n",
              "<style scoped>\n",
              "    .dataframe tbody tr th:only-of-type {\n",
              "        vertical-align: middle;\n",
              "    }\n",
              "\n",
              "    .dataframe tbody tr th {\n",
              "        vertical-align: top;\n",
              "    }\n",
              "\n",
              "    .dataframe thead th {\n",
              "        text-align: right;\n",
              "    }\n",
              "</style>\n",
              "<table border=\"1\" class=\"dataframe\">\n",
              "  <thead>\n",
              "    <tr style=\"text-align: right;\">\n",
              "      <th></th>\n",
              "      <th>cp</th>\n",
              "      <th>thalach</th>\n",
              "      <th>slope</th>\n",
              "      <th>oldpeak</th>\n",
              "      <th>exang</th>\n",
              "      <th>ca</th>\n",
              "      <th>thal</th>\n",
              "      <th>sex</th>\n",
              "      <th>age</th>\n",
              "    </tr>\n",
              "  </thead>\n",
              "  <tbody>\n",
              "    <tr>\n",
              "      <th>0</th>\n",
              "      <td>0</td>\n",
              "      <td>168</td>\n",
              "      <td>2</td>\n",
              "      <td>1.0</td>\n",
              "      <td>0</td>\n",
              "      <td>2</td>\n",
              "      <td>3</td>\n",
              "      <td>1</td>\n",
              "      <td>52</td>\n",
              "    </tr>\n",
              "    <tr>\n",
              "      <th>1</th>\n",
              "      <td>0</td>\n",
              "      <td>155</td>\n",
              "      <td>0</td>\n",
              "      <td>3.1</td>\n",
              "      <td>1</td>\n",
              "      <td>0</td>\n",
              "      <td>3</td>\n",
              "      <td>1</td>\n",
              "      <td>53</td>\n",
              "    </tr>\n",
              "    <tr>\n",
              "      <th>2</th>\n",
              "      <td>0</td>\n",
              "      <td>125</td>\n",
              "      <td>0</td>\n",
              "      <td>2.6</td>\n",
              "      <td>1</td>\n",
              "      <td>0</td>\n",
              "      <td>3</td>\n",
              "      <td>1</td>\n",
              "      <td>70</td>\n",
              "    </tr>\n",
              "    <tr>\n",
              "      <th>3</th>\n",
              "      <td>0</td>\n",
              "      <td>161</td>\n",
              "      <td>2</td>\n",
              "      <td>0.0</td>\n",
              "      <td>0</td>\n",
              "      <td>1</td>\n",
              "      <td>3</td>\n",
              "      <td>1</td>\n",
              "      <td>61</td>\n",
              "    </tr>\n",
              "    <tr>\n",
              "      <th>4</th>\n",
              "      <td>0</td>\n",
              "      <td>106</td>\n",
              "      <td>1</td>\n",
              "      <td>1.9</td>\n",
              "      <td>0</td>\n",
              "      <td>3</td>\n",
              "      <td>2</td>\n",
              "      <td>0</td>\n",
              "      <td>62</td>\n",
              "    </tr>\n",
              "  </tbody>\n",
              "</table>\n",
              "</div>\n",
              "    <div class=\"colab-df-buttons\">\n",
              "\n",
              "  <div class=\"colab-df-container\">\n",
              "    <button class=\"colab-df-convert\" onclick=\"convertToInteractive('df-a1a617f5-b94f-4a1e-9abe-b746fd764ccc')\"\n",
              "            title=\"Convert this dataframe to an interactive table.\"\n",
              "            style=\"display:none;\">\n",
              "\n",
              "  <svg xmlns=\"http://www.w3.org/2000/svg\" height=\"24px\" viewBox=\"0 -960 960 960\">\n",
              "    <path d=\"M120-120v-720h720v720H120Zm60-500h600v-160H180v160Zm220 220h160v-160H400v160Zm0 220h160v-160H400v160ZM180-400h160v-160H180v160Zm440 0h160v-160H620v160ZM180-180h160v-160H180v160Zm440 0h160v-160H620v160Z\"/>\n",
              "  </svg>\n",
              "    </button>\n",
              "\n",
              "  <style>\n",
              "    .colab-df-container {\n",
              "      display:flex;\n",
              "      gap: 12px;\n",
              "    }\n",
              "\n",
              "    .colab-df-convert {\n",
              "      background-color: #E8F0FE;\n",
              "      border: none;\n",
              "      border-radius: 50%;\n",
              "      cursor: pointer;\n",
              "      display: none;\n",
              "      fill: #1967D2;\n",
              "      height: 32px;\n",
              "      padding: 0 0 0 0;\n",
              "      width: 32px;\n",
              "    }\n",
              "\n",
              "    .colab-df-convert:hover {\n",
              "      background-color: #E2EBFA;\n",
              "      box-shadow: 0px 1px 2px rgba(60, 64, 67, 0.3), 0px 1px 3px 1px rgba(60, 64, 67, 0.15);\n",
              "      fill: #174EA6;\n",
              "    }\n",
              "\n",
              "    .colab-df-buttons div {\n",
              "      margin-bottom: 4px;\n",
              "    }\n",
              "\n",
              "    [theme=dark] .colab-df-convert {\n",
              "      background-color: #3B4455;\n",
              "      fill: #D2E3FC;\n",
              "    }\n",
              "\n",
              "    [theme=dark] .colab-df-convert:hover {\n",
              "      background-color: #434B5C;\n",
              "      box-shadow: 0px 1px 3px 1px rgba(0, 0, 0, 0.15);\n",
              "      filter: drop-shadow(0px 1px 2px rgba(0, 0, 0, 0.3));\n",
              "      fill: #FFFFFF;\n",
              "    }\n",
              "  </style>\n",
              "\n",
              "    <script>\n",
              "      const buttonEl =\n",
              "        document.querySelector('#df-a1a617f5-b94f-4a1e-9abe-b746fd764ccc button.colab-df-convert');\n",
              "      buttonEl.style.display =\n",
              "        google.colab.kernel.accessAllowed ? 'block' : 'none';\n",
              "\n",
              "      async function convertToInteractive(key) {\n",
              "        const element = document.querySelector('#df-a1a617f5-b94f-4a1e-9abe-b746fd764ccc');\n",
              "        const dataTable =\n",
              "          await google.colab.kernel.invokeFunction('convertToInteractive',\n",
              "                                                    [key], {});\n",
              "        if (!dataTable) return;\n",
              "\n",
              "        const docLinkHtml = 'Like what you see? Visit the ' +\n",
              "          '<a target=\"_blank\" href=https://colab.research.google.com/notebooks/data_table.ipynb>data table notebook</a>'\n",
              "          + ' to learn more about interactive tables.';\n",
              "        element.innerHTML = '';\n",
              "        dataTable['output_type'] = 'display_data';\n",
              "        await google.colab.output.renderOutput(dataTable, element);\n",
              "        const docLink = document.createElement('div');\n",
              "        docLink.innerHTML = docLinkHtml;\n",
              "        element.appendChild(docLink);\n",
              "      }\n",
              "    </script>\n",
              "  </div>\n",
              "\n",
              "\n",
              "<div id=\"df-45fd68af-e912-48a4-bacf-fbeffeab6b48\">\n",
              "  <button class=\"colab-df-quickchart\" onclick=\"quickchart('df-45fd68af-e912-48a4-bacf-fbeffeab6b48')\"\n",
              "            title=\"Suggest charts.\"\n",
              "            style=\"display:none;\">\n",
              "\n",
              "<svg xmlns=\"http://www.w3.org/2000/svg\" height=\"24px\"viewBox=\"0 0 24 24\"\n",
              "     width=\"24px\">\n",
              "    <g>\n",
              "        <path d=\"M19 3H5c-1.1 0-2 .9-2 2v14c0 1.1.9 2 2 2h14c1.1 0 2-.9 2-2V5c0-1.1-.9-2-2-2zM9 17H7v-7h2v7zm4 0h-2V7h2v10zm4 0h-2v-4h2v4z\"/>\n",
              "    </g>\n",
              "</svg>\n",
              "  </button>\n",
              "\n",
              "<style>\n",
              "  .colab-df-quickchart {\n",
              "    background-color: #E8F0FE;\n",
              "    border: none;\n",
              "    border-radius: 50%;\n",
              "    cursor: pointer;\n",
              "    display: none;\n",
              "    fill: #1967D2;\n",
              "    height: 32px;\n",
              "    padding: 0 0 0 0;\n",
              "    width: 32px;\n",
              "  }\n",
              "\n",
              "  .colab-df-quickchart:hover {\n",
              "    background-color: #E2EBFA;\n",
              "    box-shadow: 0px 1px 2px rgba(60, 64, 67, 0.3), 0px 1px 3px 1px rgba(60, 64, 67, 0.15);\n",
              "    fill: #174EA6;\n",
              "  }\n",
              "\n",
              "  [theme=dark] .colab-df-quickchart {\n",
              "    background-color: #3B4455;\n",
              "    fill: #D2E3FC;\n",
              "  }\n",
              "\n",
              "  [theme=dark] .colab-df-quickchart:hover {\n",
              "    background-color: #434B5C;\n",
              "    box-shadow: 0px 1px 3px 1px rgba(0, 0, 0, 0.15);\n",
              "    filter: drop-shadow(0px 1px 2px rgba(0, 0, 0, 0.3));\n",
              "    fill: #FFFFFF;\n",
              "  }\n",
              "</style>\n",
              "\n",
              "  <script>\n",
              "    async function quickchart(key) {\n",
              "      const charts = await google.colab.kernel.invokeFunction(\n",
              "          'suggestCharts', [key], {});\n",
              "    }\n",
              "    (() => {\n",
              "      let quickchartButtonEl =\n",
              "        document.querySelector('#df-45fd68af-e912-48a4-bacf-fbeffeab6b48 button');\n",
              "      quickchartButtonEl.style.display =\n",
              "        google.colab.kernel.accessAllowed ? 'block' : 'none';\n",
              "    })();\n",
              "  </script>\n",
              "</div>\n",
              "    </div>\n",
              "  </div>\n"
            ]
          },
          "metadata": {},
          "execution_count": 28
        }
      ],
      "source": [
        "# Melihat kolom yang termasuk variable indepnden\n",
        "X.head()"
      ]
    },
    {
      "cell_type": "code",
      "execution_count": 29,
      "id": "0313e11c-7eca-4877-a3aa-003080ed469e",
      "metadata": {
        "id": "0313e11c-7eca-4877-a3aa-003080ed469e",
        "colab": {
          "base_uri": "https://localhost:8080/"
        },
        "outputId": "9e8caffc-421e-4d6a-f346-d12d0243682e"
      },
      "outputs": [
        {
          "output_type": "execute_result",
          "data": {
            "text/plain": [
              "0    0\n",
              "1    0\n",
              "2    0\n",
              "3    0\n",
              "4    0\n",
              "Name: target, dtype: int64"
            ]
          },
          "metadata": {},
          "execution_count": 29
        }
      ],
      "source": [
        "# Melihat variabel dependen\n",
        "y.head()"
      ]
    },
    {
      "cell_type": "code",
      "execution_count": 30,
      "id": "a6fadbca-9977-4b82-8126-f14bff6b6c0e",
      "metadata": {
        "id": "a6fadbca-9977-4b82-8126-f14bff6b6c0e"
      },
      "outputs": [],
      "source": [
        "'''TODO: Buatlah scaling data'''\n",
        "# Mendefinisikan standard scaler\n",
        "scaler = StandardScaler()\n",
        "X_scaled = scaler.fit_transform(X)"
      ]
    },
    {
      "cell_type": "code",
      "source": [
        "X_scaled"
      ],
      "metadata": {
        "colab": {
          "base_uri": "https://localhost:8080/"
        },
        "id": "4YejF7rEK6xk",
        "outputId": "fd2ad2f7-e120-4120-bf0b-2e2ac8397563"
      },
      "id": "4YejF7rEK6xk",
      "execution_count": 31,
      "outputs": [
        {
          "output_type": "execute_result",
          "data": {
            "text/plain": [
              "array([[-0.95761576,  0.7963654 ,  0.95695623, ...,  1.1915523 ,\n",
              "         0.65520449, -0.22491878],\n",
              "       [-0.95761576,  0.22245192, -2.38648344, ...,  1.1915523 ,\n",
              "         0.65520449, -0.11517393],\n",
              "       [-0.95761576, -1.1019638 , -2.38648344, ...,  1.1915523 ,\n",
              "         0.65520449,  1.7504886 ],\n",
              "       ...,\n",
              "       [-0.95761576,  0.48733507,  0.95695623, ...,  1.1915523 ,\n",
              "         0.65520449, -0.22491878],\n",
              "       [ 1.95641929, -1.1019638 ,  0.95695623, ..., -0.53772617,\n",
              "         0.65520449,  0.5432952 ],\n",
              "       [-0.95761576, -1.63173008, -0.71476361, ...,  1.1915523 ,\n",
              "         0.65520449, -0.00542907]])"
            ]
          },
          "metadata": {},
          "execution_count": 31
        }
      ]
    },
    {
      "cell_type": "markdown",
      "id": "3a5aaf16-9e3f-4f85-a6a7-d0478198940f",
      "metadata": {
        "id": "3a5aaf16-9e3f-4f85-a6a7-d0478198940f"
      },
      "source": [
        "**Spliting data**\n",
        "\n",
        "Pisahkan dataset menjadi training dan testing dataset dengan perbandingan 80:20 dan random state 42!"
      ]
    },
    {
      "cell_type": "code",
      "execution_count": 32,
      "id": "82fa6f4a-e143-4edf-ac4c-268144dc5750",
      "metadata": {
        "id": "82fa6f4a-e143-4edf-ac4c-268144dc5750",
        "colab": {
          "base_uri": "https://localhost:8080/"
        },
        "outputId": "8b1b9852-4a29-44d9-9de2-c5204a8aced3"
      },
      "outputs": [
        {
          "output_type": "stream",
          "name": "stdout",
          "text": [
            "(226, 9)\n",
            "(57, 9)\n",
            "(226,)\n",
            "(57,)\n"
          ]
        }
      ],
      "source": [
        "'''TODO: Pisahkan data menjadi beberapa klasifikasi train dan testing'''\n",
        "# Mendefinisikan pemisahan data\n",
        "X_train, X_test, y_train, y_test = train_test_split(X_scaled, y, test_size=0.2, random_state=100)\n",
        "\n",
        "# Menampilkan hasil pemisahan berdasarkan kolom dan baris\n",
        "print(X_train.shape)\n",
        "print(X_test.shape)\n",
        "print(y_train.shape)\n",
        "print(y_test.shape)"
      ]
    },
    {
      "cell_type": "markdown",
      "id": "309491a0-8b75-45af-916b-46e690ffc710",
      "metadata": {
        "id": "309491a0-8b75-45af-916b-46e690ffc710"
      },
      "source": [
        "**Pemodelan dengan Heart Disease Dataset**\n",
        "\n",
        "Kita akan melakukan pemodelan untuk 4 model berbeda diantaranya logistic regression, decision tree, random forest dan neural networks."
      ]
    },
    {
      "cell_type": "code",
      "execution_count": 33,
      "id": "1830864d-94b8-496e-846e-4afa5817627f",
      "metadata": {
        "id": "1830864d-94b8-496e-846e-4afa5817627f"
      },
      "outputs": [],
      "source": [
        "# Menyiapkan libraries\n",
        "from sklearn.linear_model import LogisticRegression\n",
        "from sklearn.tree import DecisionTreeClassifier\n",
        "from sklearn.ensemble import RandomForestClassifier\n",
        "from sklearn.metrics import accuracy_score, precision_score, recall_score, roc_curve, roc_auc_score\n",
        "from sklearn.neural_network import MLPClassifier\n",
        "from sklearn.model_selection import GridSearchCV"
      ]
    },
    {
      "cell_type": "code",
      "execution_count": 34,
      "id": "9b3fdcf0-5735-4efa-adc8-66e465e098d7",
      "metadata": {
        "id": "9b3fdcf0-5735-4efa-adc8-66e465e098d7",
        "colab": {
          "base_uri": "https://localhost:8080/"
        },
        "outputId": "ddadadf3-6b33-49b9-b27c-1ee483027f4e"
      },
      "outputs": [
        {
          "output_type": "stream",
          "name": "stdout",
          "text": [
            "The test accuracy score of Logistric Regression Classifier is  0.8070175438596491\n"
          ]
        }
      ],
      "source": [
        "'''TODO: Buatlah pengalian informasi Logistik Regresi dan hitung akurasinya'''\n",
        "clf = LogisticRegression()\n",
        "# train the classifier\n",
        "clf.fit(X_train, y_train)\n",
        "y_pred = clf.predict(X_test)\n",
        "# printing the test accuracy\n",
        "print(\"The test accuracy score of Logistric Regression Classifier is \", accuracy_score(y_test, y_pred))"
      ]
    },
    {
      "cell_type": "code",
      "execution_count": 35,
      "id": "3e257d5d-5311-47d5-927e-45121c81af16",
      "metadata": {
        "id": "3e257d5d-5311-47d5-927e-45121c81af16",
        "colab": {
          "base_uri": "https://localhost:8080/"
        },
        "outputId": "2dbbcb50-d29c-4341-d40e-e17d4c7ce4fe"
      },
      "outputs": [
        {
          "output_type": "stream",
          "name": "stdout",
          "text": [
            "              precision    recall  f1-score   support\n",
            "\n",
            "           0       0.73      0.83      0.78        23\n",
            "           1       0.87      0.79      0.83        34\n",
            "\n",
            "    accuracy                           0.81        57\n",
            "   macro avg       0.80      0.81      0.80        57\n",
            "weighted avg       0.81      0.81      0.81        57\n",
            "\n"
          ]
        }
      ],
      "source": [
        "print(classification_report(y_test, y_pred))"
      ]
    },
    {
      "cell_type": "code",
      "execution_count": 36,
      "id": "76baf47c-40af-4bad-8c79-4dcb9f470e31",
      "metadata": {
        "id": "76baf47c-40af-4bad-8c79-4dcb9f470e31",
        "colab": {
          "base_uri": "https://localhost:8080/"
        },
        "outputId": "7f4448df-ffbb-40d0-c5b7-892b00aa0e84"
      },
      "outputs": [
        {
          "output_type": "stream",
          "name": "stdout",
          "text": [
            "The test accuracy score of Logistric Regression Classifier is  0.7368421052631579\n"
          ]
        }
      ],
      "source": [
        "'''TODO: Buatlah pengalian informasi Decision Tree dan hitung akurasinya'''\n",
        "clf = DecisionTreeClassifier()\n",
        "# train the classifier\n",
        "clf.fit(X_train, y_train)\n",
        "y_pred = clf.predict(X_test)\n",
        "# printing the test accuracy\n",
        "print(\"The test accuracy score of Logistric Regression Classifier is \", accuracy_score(y_test, y_pred))"
      ]
    },
    {
      "cell_type": "code",
      "execution_count": 37,
      "id": "3e3c41eb-1025-4e1b-bf5a-7c3fc6641197",
      "metadata": {
        "id": "3e3c41eb-1025-4e1b-bf5a-7c3fc6641197",
        "colab": {
          "base_uri": "https://localhost:8080/"
        },
        "outputId": "9cbe8076-ccd3-44f6-bedf-88a814d65ec4"
      },
      "outputs": [
        {
          "output_type": "stream",
          "name": "stdout",
          "text": [
            "              precision    recall  f1-score   support\n",
            "\n",
            "           0       0.67      0.70      0.68        23\n",
            "           1       0.79      0.76      0.78        34\n",
            "\n",
            "    accuracy                           0.74        57\n",
            "   macro avg       0.73      0.73      0.73        57\n",
            "weighted avg       0.74      0.74      0.74        57\n",
            "\n"
          ]
        }
      ],
      "source": [
        "print(classification_report(y_test, y_pred))"
      ]
    },
    {
      "cell_type": "code",
      "execution_count": 38,
      "id": "7a230471-2cee-400a-8662-e03c2b867213",
      "metadata": {
        "id": "7a230471-2cee-400a-8662-e03c2b867213",
        "colab": {
          "base_uri": "https://localhost:8080/"
        },
        "outputId": "095ce7ee-b3e1-4a28-8fe1-fab0b0361d85"
      },
      "outputs": [
        {
          "output_type": "stream",
          "name": "stdout",
          "text": [
            "The test accuracy score of Logistric Regression Classifier is  0.8421052631578947\n"
          ]
        }
      ],
      "source": [
        "'''TODO: Buatlah pengalian informasi Random Forest dan hitung akurasinya'''\n",
        "clf = RandomForestClassifier()\n",
        "# train the classifier\n",
        "clf.fit(X_train, y_train)\n",
        "y_pred = clf.predict(X_test)\n",
        "# printing the test accuracy\n",
        "print(\"The test accuracy score of Logistric Regression Classifier is \", accuracy_score(y_test, y_pred))"
      ]
    },
    {
      "cell_type": "code",
      "execution_count": 39,
      "id": "67cdbac4-4b33-41db-96cb-3ad7bcb2c0b7",
      "metadata": {
        "id": "67cdbac4-4b33-41db-96cb-3ad7bcb2c0b7",
        "colab": {
          "base_uri": "https://localhost:8080/"
        },
        "outputId": "1489a85d-7ffb-496d-f8c4-5d55fb4c3a39"
      },
      "outputs": [
        {
          "output_type": "stream",
          "name": "stdout",
          "text": [
            "              precision    recall  f1-score   support\n",
            "\n",
            "           0       0.82      0.78      0.80        23\n",
            "           1       0.86      0.88      0.87        34\n",
            "\n",
            "    accuracy                           0.84        57\n",
            "   macro avg       0.84      0.83      0.83        57\n",
            "weighted avg       0.84      0.84      0.84        57\n",
            "\n"
          ]
        }
      ],
      "source": [
        "print(classification_report(y_test, y_pred))"
      ]
    },
    {
      "cell_type": "code",
      "execution_count": 40,
      "id": "6b3267a6-42e4-474e-9ad4-294c2effa4bb",
      "metadata": {
        "id": "6b3267a6-42e4-474e-9ad4-294c2effa4bb",
        "colab": {
          "base_uri": "https://localhost:8080/"
        },
        "outputId": "4e285f78-cd22-4d7e-93fd-ce45453bb145"
      },
      "outputs": [
        {
          "output_type": "stream",
          "name": "stdout",
          "text": [
            "The test accuracy score of Logistric Regression Classifier is  0.8245614035087719\n"
          ]
        }
      ],
      "source": [
        "'''TODO: Buatlah pengalian informasi MLP dan hitung akurasinya'''\n",
        "clf = MLPClassifier()\n",
        "# train the classifier\n",
        "clf.fit(X_train, y_train)\n",
        "y_pred = clf.predict(X_test)\n",
        "# printing the test accuracy\n",
        "print(\"The test accuracy score of Logistric Regression Classifier is \", accuracy_score(y_test, y_pred))"
      ]
    },
    {
      "cell_type": "code",
      "execution_count": 41,
      "id": "a2658633-e3af-4371-857e-d4352b9fb9b0",
      "metadata": {
        "id": "a2658633-e3af-4371-857e-d4352b9fb9b0",
        "colab": {
          "base_uri": "https://localhost:8080/"
        },
        "outputId": "e06e974e-06a4-4c35-85ad-2198e8519dd6"
      },
      "outputs": [
        {
          "output_type": "stream",
          "name": "stdout",
          "text": [
            "              precision    recall  f1-score   support\n",
            "\n",
            "           0       0.74      0.87      0.80        23\n",
            "           1       0.90      0.79      0.84        34\n",
            "\n",
            "    accuracy                           0.82        57\n",
            "   macro avg       0.82      0.83      0.82        57\n",
            "weighted avg       0.84      0.82      0.83        57\n",
            "\n"
          ]
        }
      ],
      "source": [
        "print(classification_report(y_test, y_pred))"
      ]
    },
    {
      "cell_type": "markdown",
      "id": "9dc7273e-250a-470d-bac2-7c74ec6a02d4",
      "metadata": {
        "id": "9dc7273e-250a-470d-bac2-7c74ec6a02d4"
      },
      "source": [
        "**Membandingkan hasil diatas**\n",
        "\n",
        "Berdasarkan hasil ke-4 model (Random Forest, Logistic Regression, Decision Tree dan Multi-layer Perceptron). Berikut didapatkan akurasi pada proses kali ini:\n",
        "- Pada model Decision Tree memiliki nilai akurasi terkecil sebesar 70% dengan recall sebesar 81%.\n",
        "- Random Forest memiliki nilai akurasi terbesar sebesar 84% dengan recall 84%."
      ]
    },
    {
      "cell_type": "markdown",
      "id": "401fb794-27ce-4da2-ba8d-6c8dc46d0493",
      "metadata": {
        "id": "401fb794-27ce-4da2-ba8d-6c8dc46d0493"
      },
      "source": [
        "![image.png](attachment:aecaa7ec-83c9-4a8e-a38a-d5326fad3d21.png)"
      ]
    },
    {
      "cell_type": "markdown",
      "id": "a2c329fc-9d40-44f8-8886-f45101357c1e",
      "metadata": {
        "id": "a2c329fc-9d40-44f8-8886-f45101357c1e"
      },
      "source": [
        "**Pojok Catatan**\n",
        "\n",
        "Recall: Kemampuan model untuk menemukan semua kasus relevan dimana kebanyakan penting untuk deteksi risiko tinggi (seperti deteksi kanker), recall adalah metrik evaluasi yang lebih penting daripada presisi.\n",
        "\n",
        "Dalam kasus prediksi gagal jantung, kita ingin menghindari false negatives sebanyak mungkin. Kasus false negative berarti masalah gagal jantung tidak terdeteksi, yang bisa sangat berbahaya. Dalam kasus penggunaan ini, false positives (seseorang yang sehat dengan diagnosis masalah jantung tidak sehat) tidak sepenting mencegah situasi ketika kita tidak mendeteksi masalah serius.\n",
        "\n",
        "**Proses Hyperparameter Tuning**"
      ]
    },
    {
      "cell_type": "code",
      "execution_count": 75,
      "id": "86d7d153-3394-4ab4-99e2-10d818b514d6",
      "metadata": {
        "id": "86d7d153-3394-4ab4-99e2-10d818b514d6",
        "colab": {
          "base_uri": "https://localhost:8080/"
        },
        "outputId": "3dd99ab7-c930-4656-e68f-bb422862e453"
      },
      "outputs": [
        {
          "output_type": "stream",
          "name": "stdout",
          "text": [
            "0.9102126984126985\n",
            "{'max_iter': 30, 'multi_class': 'auto', 'solver': 'lbfgs'}\n"
          ]
        }
      ],
      "source": [
        "'''TODO: Buatlah hyperparameter Logistik Regresi dan hitung akurasinya'''\n",
        "# Logistic regression classifier with hyperparameter\n",
        "clf = LogisticRegression()\n",
        "\n",
        "param_grid1 = {\n",
        "    'max_iter': [30, 50, 100, 150],\n",
        "    'multi_class': ['auto'],\n",
        "    'solver' : ['lbfgs', 'newton-cholesky' ]\n",
        "}\n",
        "\n",
        "gs1 = GridSearchCV(\n",
        "        estimator= clf,\n",
        "        param_grid = param_grid1,\n",
        "        cv=5,\n",
        "        n_jobs=-1,\n",
        "        scoring='roc_auc'\n",
        "    )\n",
        "\n",
        "fit_clf_lg = gs1.fit(X_train, y_train)\n",
        "\n",
        "print(fit_clf_lg.best_score_)\n",
        "print(fit_clf_lg.best_params_)"
      ]
    },
    {
      "cell_type": "code",
      "execution_count": 76,
      "id": "f5b28c19-c044-41ee-b94b-23fb317f738d",
      "metadata": {
        "id": "f5b28c19-c044-41ee-b94b-23fb317f738d",
        "colab": {
          "base_uri": "https://localhost:8080/"
        },
        "outputId": "cf81243d-1c9b-4f65-8481-1842af75f513"
      },
      "outputs": [
        {
          "output_type": "stream",
          "name": "stdout",
          "text": [
            "              precision    recall  f1-score   support\n",
            "\n",
            "           0       0.73      0.83      0.78        23\n",
            "           1       0.87      0.79      0.83        34\n",
            "\n",
            "    accuracy                           0.81        57\n",
            "   macro avg       0.80      0.81      0.80        57\n",
            "weighted avg       0.81      0.81      0.81        57\n",
            "\n"
          ]
        }
      ],
      "source": [
        "y_pred = fit_clf_lg.predict(X_test)\n",
        "print(classification_report(y_test, y_pred))"
      ]
    },
    {
      "cell_type": "markdown",
      "id": "a161affb-d7a7-4843-8d95-a287e38d685d",
      "metadata": {
        "id": "a161affb-d7a7-4843-8d95-a287e38d685d"
      },
      "source": [
        "Setelah dilakukan hyperparameter tuning model logistic regression terjadi peningkatan pada nilai akurasi walaupun tidak begitu signifikan. Nilai akurasi naik dari yang awalnya 81% menjadi 84%."
      ]
    },
    {
      "cell_type": "code",
      "execution_count": 77,
      "id": "2ff989f1-9c22-42fb-b894-533efae59a23",
      "metadata": {
        "id": "2ff989f1-9c22-42fb-b894-533efae59a23",
        "colab": {
          "base_uri": "https://localhost:8080/"
        },
        "outputId": "91468f09-febd-4185-b93c-52ca810730b6"
      },
      "outputs": [
        {
          "output_type": "stream",
          "name": "stdout",
          "text": [
            "0.9167111111111111\n",
            "{'criterion': 'entropy', 'max_depth': 3, 'n_estimators': 200}\n"
          ]
        }
      ],
      "source": [
        "'''TODO: Buatlah hyperparameter Random Forest dan hitung akurasinya'''\n",
        "# Random Forest classifier with hyperparameter\n",
        "clf = RandomForestClassifier()\n",
        "\n",
        "param_grid1 = {'n_estimators': [100, 200, 300, 400],\n",
        "               'max_depth': [3, 5, 7, 9],\n",
        "               'criterion': ['gini', 'entropy']}\n",
        "gs1 = GridSearchCV(\n",
        "        estimator= clf,\n",
        "        param_grid = param_grid1,\n",
        "        cv=5,\n",
        "        n_jobs=-1,\n",
        "        scoring='roc_auc'\n",
        "    )\n",
        "\n",
        "fit_clf_rf = gs1.fit(X_train, y_train)\n",
        "\n",
        "print(fit_clf_rf.best_score_)\n",
        "print(fit_clf_rf.best_params_)"
      ]
    },
    {
      "cell_type": "code",
      "execution_count": 78,
      "id": "c4fb0bfe-1186-406a-a30c-892440bfd2bd",
      "metadata": {
        "id": "c4fb0bfe-1186-406a-a30c-892440bfd2bd",
        "colab": {
          "base_uri": "https://localhost:8080/"
        },
        "outputId": "2cc408b3-8297-4bc4-bc20-1424c4e23b85"
      },
      "outputs": [
        {
          "output_type": "stream",
          "name": "stdout",
          "text": [
            "              precision    recall  f1-score   support\n",
            "\n",
            "           0       0.78      0.78      0.78        23\n",
            "           1       0.85      0.85      0.85        34\n",
            "\n",
            "    accuracy                           0.82        57\n",
            "   macro avg       0.82      0.82      0.82        57\n",
            "weighted avg       0.82      0.82      0.82        57\n",
            "\n"
          ]
        }
      ],
      "source": [
        "y_pred = fit_clf_rf.predict(X_test)\n",
        "print(classification_report(y_test, y_pred))"
      ]
    },
    {
      "cell_type": "markdown",
      "id": "73f89beb-6466-49c2-860e-f2e8a5d44a2c",
      "metadata": {
        "id": "73f89beb-6466-49c2-860e-f2e8a5d44a2c"
      },
      "source": [
        "Setelah dilakukan model random forest dilakukan hyperparameter tuning akurasi model menurun menjadi 82% dari yang awalnya 84%. Turunnya akurasi tersebut bukan menunjukkan hyperparameter tuning yang kita lakukan gagal, melainkan hyperparameter tuning yang kita lakukan berhasil karena dengan begitu model menjadi sedikit lebih general atau tidak overfitting."
      ]
    },
    {
      "cell_type": "code",
      "execution_count": 79,
      "id": "87198d46-5ec0-4e55-b35e-d19fd7b4ebfb",
      "metadata": {
        "id": "87198d46-5ec0-4e55-b35e-d19fd7b4ebfb",
        "colab": {
          "base_uri": "https://localhost:8080/"
        },
        "outputId": "95ef0996-7ee2-4fbc-b4cd-6fec74fe75b4"
      },
      "outputs": [
        {
          "output_type": "stream",
          "name": "stdout",
          "text": [
            "0.8548809523809524\n",
            "{'criterion': 'gini', 'max_depth': 20, 'min_samples_leaf': 10}\n"
          ]
        }
      ],
      "source": [
        "'''TODO: Buatlah hyperparameter Decision Tree dan hitung akurasinya'''\n",
        "# Decision Tree classifier with hyperparameter\n",
        "clf = DecisionTreeClassifier()\n",
        "\n",
        "param_grid1 = {'min_samples_leaf': [1, 10, 100],\n",
        "               'max_depth': [1, 10, 20, 30],\n",
        "               'criterion': ['gini', 'entropy']}\n",
        "gs1 = GridSearchCV(\n",
        "        estimator= clf,\n",
        "        param_grid = param_grid1,\n",
        "        cv=5,\n",
        "        n_jobs=-1,\n",
        "        scoring='roc_auc'\n",
        "    )\n",
        "\n",
        "fit_clf_dt = gs1.fit(X_train, y_train)\n",
        "\n",
        "print(fit_clf_dt.best_score_)\n",
        "print(fit_clf_dt.best_params_)"
      ]
    },
    {
      "cell_type": "code",
      "execution_count": 80,
      "id": "8b6c48d9-2504-47ad-b483-db973ff3ed32",
      "metadata": {
        "id": "8b6c48d9-2504-47ad-b483-db973ff3ed32",
        "colab": {
          "base_uri": "https://localhost:8080/"
        },
        "outputId": "7d16ac17-1cc6-4b1e-b44b-ec775540e3ca"
      },
      "outputs": [
        {
          "output_type": "stream",
          "name": "stdout",
          "text": [
            "              precision    recall  f1-score   support\n",
            "\n",
            "           0       0.75      0.65      0.70        23\n",
            "           1       0.78      0.85      0.82        34\n",
            "\n",
            "    accuracy                           0.77        57\n",
            "   macro avg       0.77      0.75      0.76        57\n",
            "weighted avg       0.77      0.77      0.77        57\n",
            "\n"
          ]
        }
      ],
      "source": [
        "y_pred = fit_clf_dt.predict(X_test)\n",
        "print(classification_report(y_test, y_pred))"
      ]
    },
    {
      "cell_type": "markdown",
      "id": "8aa9315c-b907-490b-96e8-8992506aa87e",
      "metadata": {
        "id": "8aa9315c-b907-490b-96e8-8992506aa87e"
      },
      "source": [
        "Setelah dilakukan hyperparameter tuning model decision tree terjadi peningkatan pada nilai akurasi walaupun tidak begitu signifikan. Nilai akurasi naik dari yang awalnya 70% menjadi 77%."
      ]
    },
    {
      "cell_type": "code",
      "execution_count": 81,
      "id": "4da7236d-3946-4d86-9704-2b43ca530dc8",
      "metadata": {
        "id": "4da7236d-3946-4d86-9704-2b43ca530dc8",
        "colab": {
          "base_uri": "https://localhost:8080/"
        },
        "outputId": "e2290b14-c4f6-4a85-ba2a-8b56b36a1dd9"
      },
      "outputs": [
        {
          "output_type": "stream",
          "name": "stdout",
          "text": [
            "0.8624154589371982\n",
            "{'activation': 'relu', 'hidden_layer_sizes': 30, 'solver': 'adam'}\n"
          ]
        }
      ],
      "source": [
        "'''TODO: Buatlah hyperparameter MLP dan hitung akurasinya'''\n",
        "# MLP Classifier with hyperparameter\n",
        "clf = MLPClassifier()\n",
        "\n",
        "param_grid1 = {'hidden_layer_sizes': [1,10,20,30],\n",
        "               'activation': ['tanh', 'relu'],\n",
        "               'solver': ['lbfgs', 'adam', 'sgd']}\n",
        "\n",
        "gs1 = GridSearchCV(\n",
        "        estimator= clf,\n",
        "        param_grid = param_grid1,\n",
        "        cv=5,\n",
        "        n_jobs=-1,\n",
        "        scoring='accuracy'\n",
        "    )\n",
        "\n",
        "fit_clf_mlp = gs1.fit(X_train, y_train)\n",
        "\n",
        "print(fit_clf_mlp.best_score_)\n",
        "print(fit_clf_mlp.best_params_)"
      ]
    },
    {
      "cell_type": "code",
      "execution_count": 82,
      "id": "2f046fd2-a912-4335-bd6a-c0bab0b6682d",
      "metadata": {
        "id": "2f046fd2-a912-4335-bd6a-c0bab0b6682d",
        "colab": {
          "base_uri": "https://localhost:8080/"
        },
        "outputId": "f2e24b59-1fa4-4b6d-f643-3b5a1a7f96d4"
      },
      "outputs": [
        {
          "output_type": "stream",
          "name": "stdout",
          "text": [
            "              precision    recall  f1-score   support\n",
            "\n",
            "           0       0.71      0.87      0.78        23\n",
            "           1       0.90      0.76      0.83        34\n",
            "\n",
            "    accuracy                           0.81        57\n",
            "   macro avg       0.81      0.82      0.80        57\n",
            "weighted avg       0.82      0.81      0.81        57\n",
            "\n"
          ]
        }
      ],
      "source": [
        "y_pred = fit_clf_mlp.predict(X_test)\n",
        "print(classification_report(y_test, y_pred))"
      ]
    },
    {
      "cell_type": "markdown",
      "id": "d2224e4c-a21b-45c7-b4c1-41bcceb32c3d",
      "metadata": {
        "id": "d2224e4c-a21b-45c7-b4c1-41bcceb32c3d"
      },
      "source": [
        "Setelah dilakukan model random forest dilakukan hyperparameter tuning akurasi model menurun menjadi 81% dari yang awalnya 82%. Turunnya akurasi tersebut bukan menunjukkan hyperparameter tuning yang kita lakukan gagal, melainkan hyperparameter tuning yang kita lakukan berhasil karena dengan begitu model menjadi sedikit lebih general atau tidak overfitting."
      ]
    },
    {
      "cell_type": "markdown",
      "id": "4a9d7478-3ef7-44c6-b4db-d2d0e08520b4",
      "metadata": {
        "id": "4a9d7478-3ef7-44c6-b4db-d2d0e08520b4"
      },
      "source": [
        "**ROC Analysis**\n",
        "\n",
        "Kurva yang menyajikan ilustrasi performansi dari binary classifier system dalam menghasilkan sebuah prediksi"
      ]
    },
    {
      "cell_type": "code",
      "execution_count": 83,
      "id": "5a911780-06c1-4dde-bbdd-ee9c118daa46",
      "metadata": {
        "id": "5a911780-06c1-4dde-bbdd-ee9c118daa46",
        "colab": {
          "base_uri": "https://localhost:8080/"
        },
        "outputId": "d6c1038d-42b1-4bde-eff9-2e6d30f30fab"
      },
      "outputs": [
        {
          "output_type": "stream",
          "name": "stdout",
          "text": [
            "AUC-ROC for Logistic Regression: 0.8849104859335037\n",
            "AUC-ROC for Random Forest: 0.8989769820971867\n",
            "AUC-ROC for Decision Tree: 0.7851662404092071\n",
            "AUC-ROC for MLP: 0.8861892583120204\n"
          ]
        }
      ],
      "source": [
        "'''TODO: Silahkan buat ROC Analysis dari masing-masing model'''\n",
        "# Predict the probabilities for the positive class\n",
        "y_pred_logreg = fit_clf_lg.predict_proba(X_test)[:,1]\n",
        "y_pred_rf = fit_clf_rf.predict_proba(X_test)[:,1]\n",
        "y_pred_dt= fit_clf_dt.predict_proba(X_test)[:,1]\n",
        "y_pred_mlp= fit_clf_mlp.predict_proba(X_test)[:,1]\n",
        "\n",
        "# Calculate the AUC-ROC scores\n",
        "auc_logreg = roc_auc_score(y_test, y_pred_logreg)\n",
        "auc_rf = roc_auc_score(y_test, y_pred_rf)\n",
        "auc_dt = roc_auc_score(y_test,y_pred_dt)\n",
        "auc_mlp = roc_auc_score(y_test, y_pred_mlp)\n",
        "\n",
        "print(f\"AUC-ROC for Logistic Regression: {auc_logreg}\")\n",
        "print(f\"AUC-ROC for Random Forest: {auc_rf}\")\n",
        "print(f\"AUC-ROC for Decision Tree: {auc_dt}\")\n",
        "print(f\"AUC-ROC for MLP: {auc_mlp}\")"
      ]
    },
    {
      "cell_type": "markdown",
      "id": "48d8ab14-b0c8-4965-8ad3-218893ee24de",
      "metadata": {
        "id": "48d8ab14-b0c8-4965-8ad3-218893ee24de"
      },
      "source": [
        "Jika dilihat dari nilai AUC-ROC, model Random Forest memiliki nilai yang paling tinggi. Akan tetapi perbedaan nilai AUC-ROC Random Forest dengan 1 model lainnya tidak terpaut jauh dengan logistic regression.\n",
        "\n",
        "ROC adalah kurva probabilitas dan AUC mewakili tingkat atau ukuran pemisahan. Ini menunjukkan seberapa baik model mampu membedakan antara kelas. Semakin tinggi AUC, semakin baik modelnya dalam memprediksi kelas 0 sebagai 0 dan kelas 1 sebagai 1.\n",
        "\n",
        "Kurva ROC digambarkan dengan TPR (True Positive Rate) melawan FPR (False Positive Rate) di mana TPR berada di sumbu y dan FPR berada di sumbu x.\n",
        "\n",
        "Model yang sangat baik memiliki AUC mendekati 1, yang berarti memiliki ukuran pemisahan yang baik. Model yang buruk memiliki AUC mendekati 0, yang berarti memiliki ukuran pemisahan yang terburuk.\n",
        "\n",
        "Ketika AUC adalah 0.7, artinya ada peluang sebesar 70% bahwa model akan mampu membedakan antara kelas positif dan kelas negatif. Ketika AUC mendekati 0.5, model tidak memiliki kemampuan diskriminasi untuk membedakan antara kelas positif dan kelas negatif. Ketika AUC mendekati 0, model memprediksi kelas negatif sebagai kelas positif dan sebaliknya."
      ]
    },
    {
      "cell_type": "code",
      "execution_count": 85,
      "id": "ead7f931-b0f9-4687-897a-6ed7d9966740",
      "metadata": {
        "id": "ead7f931-b0f9-4687-897a-6ed7d9966740",
        "colab": {
          "base_uri": "https://localhost:8080/",
          "height": 564
        },
        "outputId": "3a3b1d95-0d29-4886-ee1e-77ca73b619ed"
      },
      "outputs": [
        {
          "output_type": "display_data",
          "data": {
            "text/plain": [
              "<Figure size 800x600 with 1 Axes>"
            ],
            "image/png": "[encoded data removed]"
          },
          "metadata": {}
        }
      ],
      "source": [
        "'''TODO: Silahkan buat ROC Analysis Graph'''\n",
        "#Membuat ROC Analisis\n",
        "def plot_roc_curves(y_test, y_pred_logreg, y_pred_rf, y_pred_dt, y_pred_mlp):\n",
        "    plt.figure(figsize=(8, 6))\n",
        "\n",
        "    # Calculate ROC curves for each model\n",
        "    fpr_logreg, tpr_logreg, _ = roc_curve(y_test, y_pred_logreg)\n",
        "    fpr_rf, tpr_rf, _ = roc_curve(y_test, y_pred_rf)\n",
        "    fpr_dt, tpr_dt, _ = roc_curve(y_test, y_pred_dt)\n",
        "    fpr_mlp, tpr_mlp, _ = roc_curve(y_test, y_pred_mlp)\n",
        "\n",
        "    # Plot ROC curves\n",
        "    plt.plot(fpr_logreg, tpr_logreg, label=f'Logistic Regression (AUC = {auc_logreg:.2f})')\n",
        "    plt.plot(fpr_rf, tpr_rf, label=f'Random Forest (AUC = {auc_rf:.2f})')\n",
        "    plt.plot(fpr_dt, tpr_dt, label=f'Decision Tree (AUC = {auc_dt:.2f})')\n",
        "    plt.plot(fpr_mlp, tpr_mlp, label=f'MLP (AUC = {auc_mlp:.2f})')\n",
        "\n",
        "    # Plot random classifier\n",
        "    plt.plot([0,1], [0,1], linestyle=\"--\", color='gray')\n",
        "\n",
        "    # Format the plot\n",
        "    plt.xlabel('False Positive Rate')\n",
        "    plt.ylabel('True Positive Rate')\n",
        "    plt.title('ROC Curves for Heart Disease Prediction Models')\n",
        "    plt.legend()\n",
        "    plt.show()\n",
        "\n",
        "plot_roc_curves(y_test, y_pred_logreg, y_pred_rf, y_pred_dt, y_pred_mlp)"
      ]
    },
    {
      "cell_type": "code",
      "execution_count": 88,
      "id": "b50c4f10-ccfd-425d-bed6-f204eb9a8950",
      "metadata": {
        "id": "b50c4f10-ccfd-425d-bed6-f204eb9a8950",
        "colab": {
          "base_uri": "https://localhost:8080/"
        },
        "outputId": "f1c0ced1-153a-4ff2-8e15-a40af98a728a"
      },
      "outputs": [
        {
          "output_type": "stream",
          "name": "stdout",
          "text": [
            "    threshold  fpr_logreg    fpr_rf    fpr_dt   fpr_mlp\n",
            "0         0.0    1.000000  1.000000  0.941176  1.000000\n",
            "1         0.1    0.970588  1.000000  0.941176  0.970588\n",
            "2         0.2    0.970588  1.000000  0.911765  0.941176\n",
            "3         0.3    0.941176  0.970588  0.911765  0.911765\n",
            "4         0.4    0.794118  0.941176  0.852941  0.852941\n",
            "5         0.5    0.794118  0.852941  0.852941  0.764706\n",
            "6         0.6    0.764706  0.794118  0.794118  0.705882\n",
            "7         0.7    0.676471  0.588235  0.470588  0.617647\n",
            "8         0.8    0.647059  0.382353  0.470588  0.558824\n",
            "9         0.9    0.411765  0.147059  0.382353  0.441176\n",
            "10        1.0    0.000000  0.000000  0.000000  0.000000\n"
          ]
        }
      ],
      "source": [
        "'''TODO: Silahkan buat ROC Analysis Graph untuk menentukan treshold'''\n",
        "def find_rates_for_thresholds(y_test, y_pred, threshold):\n",
        "    fpr_list = []\n",
        "    tpr_list = []\n",
        "    for threshold in thresholds:\n",
        "        y_pred_binary = (y_pred > threshold).astype(int)\n",
        "        tn, fp, fn, tp = confusion_matrix(y_test, y_pred_binary).ravel()\n",
        "        fpr = fp / (fp + tn)\n",
        "        tpr = tp / (tp + fn)\n",
        "        fpr_list.append(fpr)\n",
        "        tpr_list.append(tpr)\n",
        "    return  fpr_list, tpr_list\n",
        "\n",
        "thresholds = np.arange(0, 1.1, 0.1)\n",
        "\n",
        "fpr_logreg, tpr_logreg = find_rates_for_thresholds(y_test, y_pred_logreg, thresholds)\n",
        "fpr_rf, tpr_rf = find_rates_for_thresholds(y_test, y_pred_rf, thresholds)\n",
        "fpr_dt, tpr_dt = find_rates_for_thresholds(y_test, y_pred_dt, thresholds)\n",
        "fpr_mlp, tpr_mlp = find_rates_for_thresholds(y_test, y_pred_mlp, thresholds)\n",
        "\n",
        "'''TODO: Silahkan buat Summary DataFrame'''\n",
        "summary_df = pd.DataFrame({\n",
        "    'threshold': thresholds,\n",
        "    'fpr_logreg': fpr_logreg,\n",
        "    'fpr_rf': fpr_rf,\n",
        "    'fpr_dt': fpr_dt,\n",
        "    'fpr_mlp': fpr_mlp,\n",
        "    'fpr_logreg': tpr_logreg,\n",
        "    'fpr_rf': tpr_rf,\n",
        "    'fpr_dt': tpr_dt,\n",
        "    'fpr_mlp': tpr_mlp\n",
        "})\n",
        "\n",
        "print(summary_df)"
      ]
    },
    {
      "cell_type": "code",
      "execution_count": 89,
      "id": "8382f1d9-72c3-4100-b1b5-5f1ad79c5b8b",
      "metadata": {
        "id": "8382f1d9-72c3-4100-b1b5-5f1ad79c5b8b",
        "colab": {
          "base_uri": "https://localhost:8080/"
        },
        "outputId": "98c42bde-718b-4e7f-cb77-8e9e231e95c8"
      },
      "outputs": [
        {
          "output_type": "stream",
          "name": "stdout",
          "text": [
            "Best threshold for Logistic Regression: [8]\n",
            "Best threshold for Random Forest: [10]\n",
            "Best threshold for Decision Tree: [5]\n",
            "Best threshold for MLP: [8]\n"
          ]
        }
      ],
      "source": [
        "'''TODO: Silahkan buat ROC Analysis Graph untuk menentukan best treshold'''\n",
        "def find_best_threshold(y_test, y_pred):\n",
        "    # based on Youden's Index\n",
        "    fpr, tpr, thresholds =  roc_curve(y_test, y_pred)\n",
        "    optimal_idx = np.argmax(tpr - fpr)\n",
        "    return [optimal_idx]\n",
        "\n",
        "best_threshold_logreg = find_best_threshold(y_test, y_pred_logreg)\n",
        "best_threshold_rf = find_best_threshold(y_test, y_pred_rf)\n",
        "best_threshold_dt = find_best_threshold(y_test, y_pred_dt)\n",
        "best_threshold_mlp = find_best_threshold(y_test, y_pred_mlp)\n",
        "\n",
        "print(f\"Best threshold for Logistic Regression: {best_threshold_logreg}\")\n",
        "print(f\"Best threshold for Random Forest: {best_threshold_rf}\")\n",
        "print(f\"Best threshold for Decision Tree: {best_threshold_dt}\")\n",
        "print(f\"Best threshold for MLP: {best_threshold_mlp}\")"
      ]
    },
    {
      "cell_type": "markdown",
      "id": "ba5cc07e-e9bd-45d8-80b6-3ce8bda6e46a",
      "metadata": {
        "id": "ba5cc07e-e9bd-45d8-80b6-3ce8bda6e46a"
      },
      "source": [
        "**Ingat**\n",
        "\n",
        "1. Jika kita menginginkan model yang memiliki sensitivitas yang tinggi, yaitu kemampuan untuk mendeteksi sebanyak mungkin kasus positif (True Positive), maka lebih baik menggunakan treshold yang lebih rendah. Namun, ini mungkin juga akan menyebabkan peningkatan False Positive Rate (kasus negatif yang salah diprediksi positif).\n",
        "2. Sebaliknya, jika kita ingin mengurangi kesalahan dalam memprediksi kasus negatif sebagai positif (False Positive), maka kita akan memilih treshold yang lebih tinggi. Namun, ini dapat mengurangi sensitivitas model (menyebabkan lebih banyak True Negative yang salah diprediksi negatif).\n",
        "\n",
        "Jadi dapat disimpulkan, bahwa model yang peformanya lebih bagus ialah model Random Forest dengan ditandai dengan model Random Forest yang memiliki nilai akurasi pada classification report tertinggi, yaitu sebesar 82% dan Model Random Forest memiliki score AUC-ROC Terbesar dibandingkan 3 model lainnya, yaitu sebesar 90%, namun model ini memiliki treshold yang tinggi dimana akan meningkatkan FPR (Kasus negatif yang salah diprediksi positif)."
      ]
    },
    {
      "cell_type": "code",
      "execution_count": 90,
      "id": "fb6a3d83-13c6-48ce-9ae7-0490981436c1",
      "metadata": {
        "id": "fb6a3d83-13c6-48ce-9ae7-0490981436c1"
      },
      "outputs": [],
      "source": [
        "'''TODO: Silahkan simpan model yang kamu miliki'''\n",
        "import pickle\n",
        "# Menyimpan model terbaik dengan pickle\n",
        "pklname = \"best_model_rf.pkl\"\n",
        "\n",
        "with open(pklname, 'wb') as file:\n",
        "    pickle.dump(fit_clf_rf, file)"
      ]
    },
    {
      "cell_type": "markdown",
      "id": "866707c5-4161-4a52-8449-66be7c6654d5",
      "metadata": {
        "id": "866707c5-4161-4a52-8449-66be7c6654d5"
      },
      "source": [
        "Copyright © DQlab Academy x Abel Kristanto"
      ]
    }
  ],
  "metadata": {
    "kernelspec": {
      "display_name": "Python 3 (ipykernel)",
      "language": "python",
      "name": "python3"
    },
    "language_info": {
      "codemirror_mode": {
        "name": "ipython",
        "version": 3
      },
      "file_extension": ".py",
      "mimetype": "text/x-python",
      "name": "python",
      "nbconvert_exporter": "python",
      "pygments_lexer": "ipython3",
      "version": "3.11.4"
    },
    "colab": {
      "provenance": [],
      "toc_visible": true
    }
  },
  "nbformat": 4,
  "nbformat_minor": 5
}